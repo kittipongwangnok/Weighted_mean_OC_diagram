{
 "cells": [
  {
   "cell_type": "code",
   "execution_count": 1,
   "id": "96420f02",
   "metadata": {},
   "outputs": [],
   "source": [
    "#Import module\n",
    "import sys\n",
    "import os\n",
    "import numpy as np\n",
    "import matplotlib.pyplot as plt\n",
    "from scipy.optimize import curve_fit\n",
    "from scipy import stats\n",
    "import scipy.optimize as optimization  \n",
    "import pandas as pd\n",
    "#Latex font\n",
    "import matplotlib as mpl\n",
    "from matplotlib import rc\n",
    "plt.rc('text', usetex=True)\n",
    "plt.rc('font', family='serif',size=16)"
   ]
  },
  {
   "cell_type": "code",
   "execution_count": 2,
   "id": "90758d65",
   "metadata": {},
   "outputs": [
    {
     "name": "stdout",
     "output_type": "stream",
     "text": [
      "2022_Feb_week4_Weighted_mean_calculation_Beuermann_2011.ipynb\r\n",
      "2022_Feb_week4_Weighted_mean_calculation_Beuermann_2011.jpg\r\n",
      "2022_Feb_week4_Weighted_mean_calculation_Beuermann_2011_01.out\r\n",
      "2022_Feb_week4_Weighted_mean_calculation_Beuermann_2011_02.out\r\n",
      "2022_Feb_week4_Weighted_mean_calculation_Beuermann_2011_03.out\r\n",
      "2022_Feb_week4_Weighted_mean_calculation_Beuermann_2011_04.out\r\n",
      "2022_Feb_week4_Weighted_mean_calculation_Beuermann_2011_05.out\r\n",
      "2022_Feb_week4_Weighted_mean_calculation_Beuermann_2011_06.out\r\n",
      "2022_Feb_week4_Weighted_mean_calculation_Beuermann_2011_07.out\r\n",
      "2022_Feb_week4_Weighted_mean_calculation_Beuermann_2011_08.out\r\n",
      "2022_Feb_week4_Weighted_mean_calculation_Beuermann_2011_09.out\r\n",
      "2022_Feb_week4_Weighted_mean_calculation_Beuermann_2011_10.out\r\n",
      "2022_Feb_week4_Weighted_mean_calculation_Beuermann_2011_11.out\r\n",
      "2022_Feb_week4_Weighted_mean_calculation_Beuermann_2011_12.out\r\n",
      "2022_Feb_week4_Weighted_mean_calculation_Beuermann_2011_13.out\r\n",
      "2022_Feb_week4_Weighted_mean_calculation_Beuermann_2011_14.out\r\n",
      "2022_Feb_week4_Weighted_mean_calculation_Beuermann_2011_15.out\r\n",
      "2022_Feb_week4_Weighted_mean_calculation_Beuermann_2011_16.out\r\n",
      "2022_Feb_week4_Weighted_mean_calculation_Beuermann_2011_17.out\r\n",
      "2022_Feb_week4_Weighted_mean_calculation_Beuermann_2011_18.out\r\n",
      "2022_Feb_week4_Weighted_mean_calculation_Beuermann_2011_19.out\r\n",
      "2022_Feb_week4_Weighted_mean_calculation_Beuermann_2011_20.out\r\n",
      "2022_Feb_week4_Weighted_mean_calculation_Beuermann_2011_21.out\r\n",
      "2022_Feb_week4_Weighted_mean_calculation_Beuermann_2011_22.out\r\n",
      "2022_Feb_week4_Weighted_mean_calculation_Beuermann_2011_23.out\r\n",
      "2022_Feb_week4_Weighted_mean_calculation_Beuermann_2011_24.out\r\n",
      "2022_Feb_week4_Weighted_mean_calculation_Beuermann_2011_25.out\r\n",
      "2022_Feb_week4_Weighted_mean_calculation_Beuermann_2011_David.out\r\n",
      "2022_Feb_week4_Weighted_mean_calculation_Beuermann_2011_combined.out\r\n",
      "\u001b[31mBeuermann_2011.dat\u001b[m\u001b[m*\r\n",
      "Beuermann_2011.out\r\n",
      "DP_Leo_LTT_fit_weighted_data_combined_LTT_fit.pdf\r\n",
      "DP_Leo_LTT_fit_weighted_data_combined_fit.ipynb\r\n",
      "DP_Leo_LTT_fit_weighted_data_combined_fit_rev1.ipynb\r\n",
      "DP_Leo_LTT_fit_weighted_data_combined_fit_rev2.ipynb\r\n",
      "DP_Leo_LTT_fit_weighted_data_combined_fit_rev2_res.pdf\r\n",
      "DP_Leo_LTT_fit_weighted_data_combined_lnsin_fit.pdf\r\n",
      "DP_Leo_LTT_fit_weighted_data_combined_sin_fit.pdf\r\n",
      "DP_Leo_LTT_fit_weighted_data_combined_sin_fit_res.pdf\r\n",
      "David_2012.dat\r\n",
      "David_2012.out\r\n",
      "\u001b[31mKittipong_2020.dat\u001b[m\u001b[m*\r\n",
      "Kittipong_2020.out\r\n",
      "Linear_quad_LTT_fit.ipynb\r\n",
      "OC_David_2012_rev1.jpg\r\n",
      "OC_Schwope_2002.jpg\r\n",
      "\u001b[31mSchwope_2002.dat\u001b[m\u001b[m*\r\n",
      "Schwope_2002.out\r\n",
      "Weighted_mean_calculation_gp1.txt\r\n",
      "Weighted_mean_calculation_gp10.txt\r\n",
      "Weighted_mean_calculation_gp11.txt\r\n",
      "Weighted_mean_calculation_gp12.txt\r\n",
      "Weighted_mean_calculation_gp13.txt\r\n",
      "Weighted_mean_calculation_gp14.txt\r\n",
      "Weighted_mean_calculation_gp15.txt\r\n",
      "Weighted_mean_calculation_gp16.txt\r\n",
      "Weighted_mean_calculation_gp17.txt\r\n",
      "Weighted_mean_calculation_gp18.txt\r\n",
      "Weighted_mean_calculation_gp19.txt\r\n",
      "Weighted_mean_calculation_gp2.txt\r\n",
      "Weighted_mean_calculation_gp20.txt\r\n",
      "Weighted_mean_calculation_gp21.txt\r\n",
      "Weighted_mean_calculation_gp22.txt\r\n",
      "Weighted_mean_calculation_gp23.txt\r\n",
      "Weighted_mean_calculation_gp24.txt\r\n",
      "Weighted_mean_calculation_gp25.txt\r\n",
      "Weighted_mean_calculation_gp3.txt\r\n",
      "Weighted_mean_calculation_gp4.txt\r\n",
      "Weighted_mean_calculation_gp5.txt\r\n",
      "Weighted_mean_calculation_gp6.txt\r\n",
      "Weighted_mean_calculation_gp7.txt\r\n",
      "Weighted_mean_calculation_gp8.txt\r\n",
      "Weighted_mean_calculation_gp9.txt\r\n",
      "interporate_LTT_fit.out\r\n",
      "interporate_lnLTT_fit.out\r\n",
      "interporate_ln_fit.out\r\n",
      "interporate_lnquadLTT_fit.out\r\n",
      "interporate_lnquad_fit.out\r\n",
      "interporate_lnsin_fit.out\r\n",
      "interporate_quadLTT_fit.out\r\n",
      "interporate_quad_fit.out\r\n",
      "interporate_quadratic_fit.out\r\n",
      "interporate_sin_fit.out\r\n"
     ]
    }
   ],
   "source": [
    "ls"
   ]
  },
  {
   "cell_type": "code",
   "execution_count": 3,
   "id": "d2f68561",
   "metadata": {},
   "outputs": [],
   "source": [
    "#Read data ---#1\n",
    "Input = \"2022_Feb_week4_Weighted_mean_calculation_Beuermann_2011_combined.out\"\n",
    "Data   = np.genfromtxt(Input)\n",
    "\n",
    "BJD_time = Data[:,0]\n",
    "OC = Data[:,1]\n",
    "OC_err = Data[:,2]"
   ]
  },
  {
   "cell_type": "code",
   "execution_count": 4,
   "id": "b3f98e2a",
   "metadata": {},
   "outputs": [],
   "source": [
    "# Ephemeris\n",
    "BJD0 = 2448773.21461 - 2400000\n",
    "dBJD0 = 0.00009\n",
    "P0 = 0.0623628426\n",
    "dP0 = 0.0000000006\n",
    "\n",
    "# Calculate the Epoch\n",
    "Epoch = (BJD_time - BJD0)/P0\n",
    "#print(E)\n",
    "\n",
    "x = BJD_time\n",
    "y = OC\n",
    "dy = OC_err\n",
    "\n",
    "len_x = len(x)"
   ]
  },
  {
   "cell_type": "code",
   "execution_count": 5,
   "id": "2e88bd36",
   "metadata": {},
   "outputs": [],
   "source": [
    "a = 0\n",
    "b = 0\n",
    "c = 0\n",
    "K = 33.7       #m/s\n",
    "w = -1.36           #rad\n",
    "P = 10220       #days\n",
    "tau = 53025   #days\n",
    "e = 0.39               #No-unit"
   ]
  },
  {
   "cell_type": "code",
   "execution_count": 6,
   "id": "be79e1c1",
   "metadata": {},
   "outputs": [],
   "source": [
    "from scipy.optimize import fsolve\n",
    "from scipy.optimize import curve_fit"
   ]
  },
  {
   "cell_type": "code",
   "execution_count": 7,
   "id": "88976748",
   "metadata": {},
   "outputs": [],
   "source": [
    "def TAno(P,tau,e,t):\n",
    "    MAno = 2*np.pi/P*((t-tau)%P)\n",
    "    EFunc = lambda x: x-e*np.sin(x)-MAno\n",
    "    EAno = fsolve(EFunc, MAno)\n",
    "    f = np.arccos((np.cos(EAno)-e)/(1-e*np.cos(EAno)))\n",
    "    f = np.where(EAno>np.pi,-f,f)\n",
    "    return f\n",
    "\n",
    "def lnquadLTT_fit(t,a,b,c,K,w,P,tau,e):\n",
    "    f = TAno(P,tau,e,t)\n",
    "    Epoch = (t-BJD0)/P0\n",
    "    return a*Epoch*Epoch + b*Epoch + c + K*((1-e*e)/(1+e*np.cos(f))*np.sin(f+w))"
   ]
  },
  {
   "cell_type": "code",
   "execution_count": 8,
   "id": "c194ce83",
   "metadata": {},
   "outputs": [],
   "source": [
    "import scipy.optimize as optimization  \n",
    "guess = (a,b,c,K,w,P,tau,e)\n",
    "params, params_covariance = optimization.curve_fit(lnquadLTT_fit, x, y,sigma=dy, absolute_sigma=False,p0=guess)"
   ]
  },
  {
   "cell_type": "code",
   "execution_count": 9,
   "id": "8e45b4a0",
   "metadata": {},
   "outputs": [
    {
     "name": "stdout",
     "output_type": "stream",
     "text": [
      "The Keplerian parameters:\n",
      "dP = 0.0005091577956978023 +/- 0.00131741645770813 [s]\n",
      "dT0 = -1.8417499156624377 +/- 22.8449074766526 [s]\n",
      "T0 = 2448773.2145886836 +/- 0.00027930616697237993 [days]\n",
      "P_bin = 0.062362848493030046 +/- 1.5259676024879788e-08 [days]\n",
      "P_dot = -5.104282666146377e-13 +/- -4.910888394442472e-21 [s]\n",
      "K = 54.870806997841456 +/- 60.5204263105313 [s]\n",
      "P_d = 14199.689036931737 +/- 10296.110721249395 [days]\n",
      "P_yr = 38.876629806794625 +/- 28.189214842571925 [years]\n",
      "e = 0.2345990440251409 +/- 0.31242286225032995 [-]\n",
      "w = -1.8175072581052403 +/- 0.32714428397676903 [rad]\n",
      "w_deg = -104.13549512382465 +/- 18.74398676369815 [deg]\n",
      "tau = 52646.000657340504 +/- 625.5230078802559 [days]\n"
     ]
    }
   ],
   "source": [
    "a = params[0]\n",
    "b = params[1]\n",
    "c = params[2]\n",
    "K = params[3]\n",
    "w = params[4]\n",
    "P = params[5]\n",
    "tau = params[6]\n",
    "e = params[7]\n",
    "\n",
    "\n",
    "da = params_covariance[0,0]\n",
    "db = params_covariance[1,1]\n",
    "dc = params_covariance[2,2]\n",
    "dK = params_covariance[3,3]\n",
    "dw = params_covariance[4,4]\n",
    "dP = params_covariance[5,5]\n",
    "dtau = params_covariance[6,6]\n",
    "de = params_covariance[7,7]\n",
    "\n",
    "\n",
    "oc_lnquadLTT_fit = lnquadLTT_fit(x,*params)\n",
    "#print(ocfit)\n",
    "\n",
    "\n",
    "if e<0:\n",
    "    w -= np.pi\n",
    "    e *= -1\n",
    "    w_deg = w*180/np.pi\n",
    "#    print(K,P,e,w,w_deg,tau)\n",
    "\n",
    "\n",
    "##T\n",
    "T = c/(24*60*60) + BJD0 + 2400000\n",
    "dT = np.sqrt((((dc**(0.5))/(24*60*60))**2) + (dBJD0**2))\n",
    "#T = BJD0\n",
    "#print(T)\n",
    "#print(dT)\n",
    "\n",
    "##P\n",
    "Period = (b/(24*60*60)) + P0\n",
    "dPeriod = np.sqrt((((db**(0.5))/(24*60*60))**2) + (dP0**2))\n",
    "#print(P)\n",
    "#print(dP)\n",
    "\n",
    "#Period decrease\n",
    "P_dot = 2*a/(P0*24*60*60)\n",
    "#print(P_dot)\n",
    "\n",
    "dP_dot = 2*a*(dP0*24*60*60)/((P0*24*60*60)**2)\n",
    "#print(dP_dot)\n",
    "\n",
    "print(\"The Keplerian parameters:\")\n",
    "print(\"dP =\", b, \"+/-\", db**0.5, \"[s]\")\n",
    "print(\"dT0 =\", c, \"+/-\", dc**0.5, \"[s]\")\n",
    "print(\"T0 =\", T, \"+/-\", dT, \"[days]\")\n",
    "print(\"P_bin =\", Period, \"+/-\", dPeriod, \"[days]\")\n",
    "print(\"P_dot =\", P_dot, \"+/-\", dP_dot, \"[s]\")\n",
    "print(\"K =\", K, \"+/-\", dK**0.5, \"[s]\")\n",
    "print(\"P_d =\", P, \"+/-\", dP**0.5, \"[days]\")\n",
    "print(\"P_yr =\", P/365.25, \"+/-\", (dP**0.5)/365.25, \"[years]\")\n",
    "print(\"e =\", e, \"+/-\", de**0.5, \"[-]\")\n",
    "print(\"w =\", w, \"+/-\", dw**0.5, \"[rad]\")\n",
    "print(\"w_deg =\", w*(180/np.pi), \"+/-\", dw**0.5*(180/np.pi), \"[deg]\")\n",
    "print(\"tau =\", tau, \"+/-\", dtau**0.5, \"[days]\")"
   ]
  },
  {
   "cell_type": "code",
   "execution_count": 10,
   "id": "6323dc6d",
   "metadata": {},
   "outputs": [
    {
     "name": "stdout",
     "output_type": "stream",
     "text": [
      "Reduced_chisq: 0.11508685920408478\n"
     ]
    }
   ],
   "source": [
    "x_min, x_max = np.amin(x), np.amax(x)\n",
    "x_line = np.linspace(x_min, x_max)\n",
    "y_line = lnquadLTT_fit(x_line, *params) #### For all interporation \n",
    "#print(y_line)\n",
    "#print(ocfit)\n",
    "#print(x)\n",
    "\n",
    "#Reduced_chisqrt\n",
    "n = 8\n",
    "dof = len_x - n\n",
    "Chi_sqr = ((y - oc_lnquadLTT_fit)**2/(dy)**2)/dof\n",
    "Reduced_chisq_lnquadLTT = sum(Chi_sqr)\n",
    "print(\"Reduced_chisq:\",Reduced_chisq_lnquadLTT)"
   ]
  },
  {
   "cell_type": "code",
   "execution_count": 11,
   "id": "a0a1d4e3",
   "metadata": {},
   "outputs": [
    {
     "data": {
      "image/png": "[encoded data removed]",
      "text/plain": [
       "<Figure size 720x360 with 2 Axes>"
      ]
     },
     "metadata": {
      "needs_background": "light"
     },
     "output_type": "display_data"
    }
   ],
   "source": [
    "N_BMJD = 2400000\n",
    "fig, (ax0, ax1) = plt.subplots(2, 1, gridspec_kw={'height_ratios': [4, 1]}, sharex=True, sharey=False, figsize=(10, 5), tight_layout=True)\n",
    "plt.xlabel('BJD-'+str(N_BMJD))\n",
    "\n",
    "ax0.tick_params(direction='in', which='both', bottom='on',top='on', right = 'on')\n",
    "ax1.tick_params(direction='in', which='both', bottom='on',top='on', right = 'on')\n",
    "\n",
    "ax0.errorbar(x, y, yerr= dy, fmt='o', markersize=8, color='blue', ecolor='lightgray')\n",
    "ax0.plot(x_line, y_line, '-', color='magenta')\n",
    "\n",
    "#ax0.set_ylim(-40,60)\n",
    "\n",
    "ax0.set_ylabel('O-C (sec)')\n",
    "ax1.set_ylabel('Residuals (sec)')\n",
    "\n",
    "\n",
    "Res_lnquadLTT_fit = y-oc_lnquadLTT_fit\n",
    "\n",
    "ax1.errorbar(x, Res_lnquadLTT_fit, yerr= dy, fmt='o', markersize=8, color='black', ecolor='lightgray')\n",
    "\n",
    "ax1.axhline(y=0, color='black', linestyle='-')\n",
    "\n",
    "#plt.savefig(\"2022_Feb_week4_new_ephemeris_sin_fit_Res.jpg\", dpi=1000)\n",
    "\n",
    "plt.show()"
   ]
  },
  {
   "cell_type": "code",
   "execution_count": null,
   "id": "342b87f8",
   "metadata": {},
   "outputs": [],
   "source": []
  }
 ],
 "metadata": {
  "kernelspec": {
   "display_name": "Python 3 (ipykernel)",
   "language": "python",
   "name": "python3"
  },
  "language_info": {
   "codemirror_mode": {
    "name": "ipython",
    "version": 3
   },
   "file_extension": ".py",
   "mimetype": "text/x-python",
   "name": "python",
   "nbconvert_exporter": "python",
   "pygments_lexer": "ipython3",
   "version": "3.9.7"
  }
 },
 "nbformat": 4,
 "nbformat_minor": 5
}
